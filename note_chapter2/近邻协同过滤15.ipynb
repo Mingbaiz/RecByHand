{
 "cells": [
  {
   "cell_type": "markdown",
   "metadata": {},
   "source": [
    "# 数据加载\n",
    "## 文件地址"
   ]
  },
  {
   "cell_type": "code",
   "execution_count": 10,
   "metadata": {},
   "outputs": [
    {
     "name": "stdout",
     "output_type": "stream",
     "text": [
      "d:\\DeepLearning\\推荐系统\\recbyhand\\data_set\n",
      "d:\\DeepLearning\\推荐系统\\recbyhand\\data_set\\ml-100k\n",
      "d:\\DeepLearning\\推荐系统\\recbyhand\\data_set\\ml-100k\\rating_index.tsv\n"
     ]
    }
   ],
   "source": [
    "import os\n",
    "import collections\n",
    "ROOT = os.getcwd()\n",
    "ROOT = os.path.split(ROOT)[0]\n",
    "ROOT = os.path.join(ROOT,'data_set')\n",
    "\n",
    "class Ml_100K():\n",
    "    #下载地址：https://github.com/rexrex9/kb4recMovielensDataProcess\n",
    "    # 以双下划线（__）开头的属性名（如这里的__BASE）在类定义里通常会被解释器进行名称改写（Name Mangling）\n",
    "    # 用于实现一种有限的 “私有” 机制，实际的属性名会被改写成_类名__属性名的形式。\n",
    "    __BASE = os.path.join(ROOT, 'ml-100k')\n",
    "    ORGINAL_DIR = os.path.join(ROOT,'ml-100k-orginal')\n",
    "    USER_DF = os.path.join(ORGINAL_DIR,'user_df.csv')\n",
    "    ITEM_DF = os.path.join(ORGINAL_DIR,'item_df.csv')\n",
    "    ITEM_DF_0 = os.path.join(ORGINAL_DIR, 'item_df_0.csv')\n",
    "\n",
    "    KG=os.path.join(__BASE,'kg_index.tsv')\n",
    "    RATING = os.path.join(__BASE,'rating_index.tsv')\n",
    "    RATING5 = os.path.join(__BASE, 'rating_index_5.tsv')\n",
    "\n",
    "class Ml_latest_small():\n",
    "    __BASE = os.path.join(ROOT,'ml-latest-small')\n",
    "    RATING_TS = os.path.join(__BASE,'rating_index_ts.tsv')\n",
    "    SEQS = os.path.join(__BASE, 'seqs.npy')\n",
    "\n",
    "    SEQS_NEG = os.path.join(__BASE, 'seqsWithNeg.npy')\n",
    "print(ROOT)\n",
    "print(Ml_100K._Ml_100K__BASE)\n",
    "print(Ml_100K.RATING)"
   ]
  },
  {
   "cell_type": "code",
   "execution_count": 11,
   "metadata": {},
   "outputs": [],
   "source": [
    "import json\n",
    "\n",
    "def readTriple(path,sep=None):\n",
    "    # with语句的作用：自动管理文件资源\n",
    "    # path是路径 ‘r’是read表示只读模式  utf-8是文件的编码格式\n",
    "    # 文件对象被赋值给f\n",
    "    with open(path,'r',encoding='utf-8') as f:\n",
    "        # readlines()方法会一次性读取文件中所有的行\n",
    "        # 并将每行内容作为一个字符串元素储存在一个列表中\n",
    "        for line in f.readlines():\n",
    "            if sep:\n",
    "                # .strip()去除字符串两端的空白字符\n",
    "                # .split()按照分隔符将字符串拆分成列表\n",
    "                lines = line.strip().split(sep)\n",
    "            else:\n",
    "                lines=line.strip().split()\n",
    "            # 如果长度不是3那就跳过本次循环\n",
    "            if len(lines)!=3:continue\n",
    "            # 长度是3 利用yield将Lines列表作为一个生产的数据项返回\n",
    "            yield lines"
   ]
  },
  {
   "cell_type": "code",
   "execution_count": 12,
   "metadata": {},
   "outputs": [],
   "source": [
    "import random\n",
    "from tqdm import tqdm\n",
    "\n",
    "def readRecData(path,test_ratio = 0.1):\n",
    "    print('读取用户评分三元组...')\n",
    "    user_set,item_set=set(),set()\n",
    "    triples=[]\n",
    "    for u, i, r in tqdm(readTriple(path)):\n",
    "        user_set.add(int(u))\n",
    "        item_set.add(int(i))\n",
    "        triples.append((int(u),int(i),int(r)))\n",
    "\n",
    "    test_set=random.sample(triples,int(len(triples)*test_ratio))\n",
    "    train_set=list(set(triples)-set(test_set))\n",
    "\n",
    "    #返回用户集合列表，物品集合列表，与用户，物品，评分三元组列表\n",
    "    return list(user_set),list(item_set),train_set,test_set\n"
   ]
  },
  {
   "cell_type": "markdown",
   "metadata": {},
   "source": [
    "# 近邻协同过滤\n",
    "## UerItemCF_15\n",
    "参考文件 chapter2\\s36_userItemCF_15label.py"
   ]
  },
  {
   "cell_type": "code",
   "execution_count": 13,
   "metadata": {},
   "outputs": [],
   "source": [
    "import numpy as np\n",
    "\n",
    "# 得到用户-物品集合\n",
    "def getSet( triples ):\n",
    "    user_items = collections.defaultdict( set )\n",
    "    for u, i, r in triples:\n",
    "        if r == 1:\n",
    "            user_items[u].add(i)\n",
    "    return user_items\n",
    "\n",
    "#字典形式读取数据, 返回{uid1:{iid1:rate,iid2:rate}}\n",
    "def getDict(triples):\n",
    "    user_items = collections.defaultdict(dict)\n",
    "    item_users = collections.defaultdict(dict)\n",
    "    for u, i, r in triples:\n",
    "        user_items[u][i] = float(r)\n",
    "        item_users[i][u] = float(r)\n",
    "    return user_items, item_users\n",
    "\n",
    "#集合形式读取数据, 评分大于4的为正例，反之为反例。返回{uid1:{iid1,iid2,iid3}}\n",
    "def getPosAndNegSet(triples):\n",
    "    user_pos_items = collections.defaultdict(set)\n",
    "    user_neg_items = collections.defaultdict(set)\n",
    "    for u, i, r in triples:\n",
    "        if r >=4:\n",
    "            user_pos_items[u].add(i)\n",
    "        else:\n",
    "            user_neg_items[u].add(i)\n",
    "    return user_pos_items, user_neg_items\n",
    "\n",
    "# 两个向量间的cos相似度\n",
    "def cos4vector( v1, v2 ):\n",
    "    return (np.dot(v1,v2))/(np.linalg.norm(v1)*np.linalg.norm(v2))\n",
    "\n",
    "# 根据评分字典得到cos相似度\n",
    "def getCosSimForDict(d1, d2):\n",
    "    '''\n",
    "    :param d1: 字典{iid1:rate, iid2:rate}\n",
    "    :param d2: 字典{iid2:rate, iid3:rate}\n",
    "    :return: 得到cos相似度\n",
    "    '''\n",
    "    s1 = set(d1.keys())\n",
    "    s2 = set(d2.keys())\n",
    "    inner = s1 & s2\n",
    "    if len( inner ) == 0:\n",
    "        return 0 #如果没有交集，则相似度一定为0\n",
    "    a1, a2 = [],[]\n",
    "\n",
    "    for i in inner:\n",
    "        a1.append(d1[i])\n",
    "        a2.append(d2[i])\n",
    "    for i in s1 - inner:\n",
    "        a1.append(d1[i])\n",
    "        a2.append(0)\n",
    "    for i in s2 - inner:\n",
    "        a1.append(0)\n",
    "        a2.append(d2[i])\n",
    "    return cos4vector( np.array(a1), np.array(a2) )\n",
    "\n",
    "#knn算法\n",
    "def knn4Dict( trainset, k ):\n",
    "    sims = {}\n",
    "    for e1 in tqdm( trainset ):\n",
    "        ulist=[]\n",
    "        for e2 in trainset:\n",
    "            if e1 == e2 :\n",
    "                continue\n",
    "            cosSim = getCosSimForDict( trainset[e1], trainset[e2] )\n",
    "            if cosSim !=0:\n",
    "                ulist.append((e2, cosSim))\n",
    "        sims[e1] = [i[0] for i in sorted( ulist, key = lambda x:x[1], reverse = True)[:k]]\n",
    "    return sims\n",
    "\n",
    "#得到基于相似用户的推荐列表\n",
    "def get_recomedations_by_usrCF(user_sims, user_o_set, user_items):\n",
    "    recomedations = collections.defaultdict(set)\n",
    "    for u in user_sims:\n",
    "        for sim_u in user_sims[u]:\n",
    "            recomedations[u] |= (user_items[sim_u] - set(user_o_set[u].keys()))\n",
    "    return recomedations\n",
    "\n",
    "#得到基于相似物品的推荐列表\n",
    "def get_recomedations_by_itemCF(item_sims, user_o_set):\n",
    "    recomedations = collections.defaultdict(set)\n",
    "    for u in user_o_set:\n",
    "        for item in user_o_set[u]:\n",
    "            recomedations[u] |= set(item_sims[item]) - set(user_o_set[u].keys())\n",
    "    return recomedations\n",
    "\n",
    "def trainUserCF( user_items_train, user_pos_items, k = 5 ):\n",
    "    user_sims = knn4Dict(user_items_train, k)\n",
    "    recomedations = get_recomedations_by_usrCF(user_sims, user_items_train, user_pos_items)\n",
    "    return recomedations\n",
    "\n",
    "def trainItemCF( user_items_train, item_users_train, k = 5 ):\n",
    "    item_sims = knn4Dict( item_users_train, k )\n",
    "    recomedations = get_recomedations_by_itemCF( item_sims, user_items_train )\n",
    "    return recomedations"
   ]
  },
  {
   "cell_type": "markdown",
   "metadata": {},
   "source": [
    "# 模型评估"
   ]
  },
  {
   "cell_type": "code",
   "execution_count": 14,
   "metadata": {},
   "outputs": [],
   "source": [
    "from sklearn.metrics import roc_auc_score, precision_score, recall_score, accuracy_score\n",
    "import numpy as np\n",
    "\n",
    "def precision( y_true, y_pred ):\n",
    "    return precision_score( y_true, y_pred )\n",
    "\n",
    "def precision4Set( test_pos_set, test_neg_set, pred_set ):\n",
    "    '''\n",
    "    :param test_pos_set: 真实的用户喜爱的物品集合{iid1,iid2,iid3}\n",
    "    :param test_neg_set: 真实的用户不喜爱的物品集合{iid1,iid2,iid3}\n",
    "    :param pred_set: 预测的推荐集合{iid2,iid3,iid4}\n",
    "    :return: 精确率\n",
    "    '''\n",
    "    TP = len( pred_set & test_pos_set )\n",
    "    FP = len( pred_set & test_neg_set )\n",
    "    # 若推荐列表和真实的正负例样本均无交集，则返回none\n",
    "    p = TP / (TP + FP) if TP + FP > 0 else None\n",
    "    # p = TP/len(pred_set) #若对模型严格一点可这么去算精确度\n",
    "    return p\n",
    "\n",
    "def recall( y_true, y_pred ):\n",
    "    return recall_score( y_true, y_pred )\n",
    "\n",
    "def recall4Set( test_set, pred_set ):\n",
    "    '''\n",
    "    :param test_set:真实的用户喜爱的物品集合{iid1,iid2,iid3}\n",
    "    :param pred_set: 预测的推荐集合{iid2,iid3,iid4}\n",
    "    :return: 召回率\n",
    "    '''\n",
    "    #计算它们的交集数量 除以 测试集的数量 即可\n",
    "    return len(pred_set & test_set)/(len(test_set))\n",
    "\n",
    "def auc(y_true,y_scores):\n",
    "    return roc_auc_score(y_true,y_scores)\n",
    "\n",
    "def accuracy(y_true,y_scores):\n",
    "    return accuracy_score(y_true,y_scores)\n",
    "\n",
    "def MSE(y_true, y_pred):\n",
    "    return np.average((np.array(y_true) - np.array(y_pred)) ** 2)\n",
    "\n",
    "def RMSE(y_true, y_pred):\n",
    "    return MSE(y_true, y_pred) ** 0.5\n",
    "\n",
    "def MAE(y_true,y_pred):\n",
    "    return np.average(abs(np.array(y_true) - np.array(y_pred)))"
   ]
  },
  {
   "cell_type": "code",
   "execution_count": 15,
   "metadata": {},
   "outputs": [],
   "source": [
    "def evaluation(test_set, user_neg_items, pred_set):\n",
    "    total_r = 0.0\n",
    "    total_p = 0.0\n",
    "    has_p_count=0\n",
    "    for uid in test_set:\n",
    "        if len(test_set[uid]) > 0:\n",
    "            p = precision4Set(test_set[uid], user_neg_items[uid], pred_set[uid])\n",
    "            if p:\n",
    "                total_p += p\n",
    "                has_p_count+=1\n",
    "            total_r += recall4Set(test_set[uid], pred_set[uid])\n",
    "\n",
    "    print(\"Precision {:.4f} | Recall {:.4f}\".format(total_p / has_p_count, total_r / len(test_set)))"
   ]
  },
  {
   "cell_type": "code",
   "execution_count": 16,
   "metadata": {},
   "outputs": [
    {
     "name": "stdout",
     "output_type": "stream",
     "text": [
      "读取用户评分三元组...\n"
     ]
    },
    {
     "name": "stderr",
     "output_type": "stream",
     "text": [
      "97466it [00:00, 1188457.47it/s]\n"
     ]
    }
   ],
   "source": [
    "_, _, train_set, test_set = readRecData(Ml_100K.RATING5, test_ratio=0.1)\n",
    "\n",
    "user_items_train, item_users_train = getDict(train_set)\n",
    "user_pos_items_train, _ = getPosAndNegSet(train_set)\n",
    "\n",
    "#测试集，正例集合与负例集合\n",
    "user_pos_items_test, user_neg_items_test = getPosAndNegSet(test_set)"
   ]
  },
  {
   "cell_type": "code",
   "execution_count": 17,
   "metadata": {},
   "outputs": [
    {
     "name": "stderr",
     "output_type": "stream",
     "text": [
      "100%|██████████| 943/943 [00:38<00:00, 24.41it/s]\n",
      "100%|██████████| 1584/1584 [01:00<00:00, 26.25it/s]\n"
     ]
    }
   ],
   "source": [
    "recomedations_by_userCF = trainUserCF( user_items_train, user_pos_items_train, k=5 )\n",
    "recomedations_by_itemCF = trainItemCF( user_items_train, item_users_train, k=5 )"
   ]
  },
  {
   "cell_type": "code",
   "execution_count": 18,
   "metadata": {},
   "outputs": [
    {
     "name": "stdout",
     "output_type": "stream",
     "text": [
      "user_CF\n",
      "Precision 0.7122 | Recall 0.7094\n",
      "item_CF\n",
      "Precision 0.6843 | Recall 0.6505\n"
     ]
    }
   ],
   "source": [
    "print('user_CF')\n",
    "evaluation( user_pos_items_test, user_neg_items_test , recomedations_by_userCF )\n",
    "print('item_CF')\n",
    "evaluation( user_pos_items_test, user_neg_items_test , recomedations_by_itemCF )"
   ]
  }
 ],
 "metadata": {
  "kernelspec": {
   "display_name": "RecbyHand",
   "language": "python",
   "name": "python3"
  },
  "language_info": {
   "codemirror_mode": {
    "name": "ipython",
    "version": 3
   },
   "file_extension": ".py",
   "mimetype": "text/x-python",
   "name": "python",
   "nbconvert_exporter": "python",
   "pygments_lexer": "ipython3",
   "version": "3.13.1"
  }
 },
 "nbformat": 4,
 "nbformat_minor": 2
}
