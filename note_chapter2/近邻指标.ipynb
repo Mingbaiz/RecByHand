{
 "cells": [
  {
   "cell_type": "code",
   "execution_count": 15,
   "metadata": {},
   "outputs": [],
   "source": [
    "import numpy as np\n",
    "import math"
   ]
  },
  {
   "cell_type": "markdown",
   "metadata": {},
   "source": [
    "## 2.2 基础近邻指标"
   ]
  },
  {
   "cell_type": "code",
   "execution_count": 8,
   "metadata": {},
   "outputs": [],
   "source": [
    "# CN相似度 (common neighbors)\n",
    "def CN( set1, set2 ):\n",
    "    return len( set1 & set2 )\n",
    "\n",
    "# Jaccard相似度\n",
    "def Jaccard( set1, set2 ):\n",
    "    return len(set1&set2)/len(set1|set2)\n"
   ]
  },
  {
   "cell_type": "code",
   "execution_count": 9,
   "metadata": {},
   "outputs": [
    {
     "name": "stdout",
     "output_type": "stream",
     "text": [
      "2\n",
      "0.5\n"
     ]
    }
   ],
   "source": [
    "a = { 1, 2, 3 }\n",
    "b = { 2, 3, 4 }\n",
    "\n",
    "print( CN(a,b) )\n",
    "print( Jaccard(a,b) )"
   ]
  },
  {
   "cell_type": "code",
   "execution_count": 10,
   "metadata": {},
   "outputs": [],
   "source": [
    "# 两个向量间的cos相似度\n",
    "def cos4vector( v1, v2 ):\n",
    "    return (np.dot(v1,v2))/(np.linalg.norm(v1)*np.linalg.norm(v2))\n",
    "\n",
    "# 两个集合间的cos相似度\n",
    "def cos4set( set1, set2 ):\n",
    "    return len(set1&set2)/(len(set1)*len(set2))**0.5"
   ]
  },
  {
   "cell_type": "markdown",
   "metadata": {},
   "source": [
    "这里两个皮尔逊相关系数的定义考察定义，对于标准化后的向量：皮尔逊相似度等价于cos相似度"
   ]
  },
  {
   "cell_type": "code",
   "execution_count": 11,
   "metadata": {},
   "outputs": [],
   "source": [
    "# 两个向量间的pearson相似度\n",
    "def pearson( v1, v2 ):\n",
    "    v1_mean = np.mean( v1 )\n",
    "    v2_mean = np.mean( v2 )\n",
    "    return ( np.dot( v1 - v1_mean, v2 - v2_mean) )/\\\n",
    "           ( np.linalg.norm( v1 - v1_mean ) *\n",
    "             np.linalg.norm( v2 - v2_mean ) )\n",
    "\n",
    "# 两个向量间的pearson相似度\n",
    "def pearsonSimple( v1, v2 ):\n",
    "    v1 -= np.mean( v1 )\n",
    "    v2 -= np.mean( v2 )\n",
    "    return cos4vector( v1, v2 )#调用余弦相似度函数"
   ]
  },
  {
   "cell_type": "code",
   "execution_count": 13,
   "metadata": {},
   "outputs": [
    {
     "name": "stdout",
     "output_type": "stream",
     "text": [
      "0.6666666666666666\n"
     ]
    }
   ],
   "source": [
    "print( cos4set( a, b ) )"
   ]
  },
  {
   "cell_type": "code",
   "execution_count": 14,
   "metadata": {},
   "outputs": [
    {
     "name": "stdout",
     "output_type": "stream",
     "text": [
      "0.8183918171270462\n",
      "0.11470786693528087\n",
      "0.11470786693528087\n"
     ]
    }
   ],
   "source": [
    "a = [ 1, 3, 2 ]\n",
    "b = [ 8, 9, 1 ]\n",
    "\n",
    "print( cos4vector( a, b ) )\n",
    "print( pearson( a, b ) )\n",
    "print( pearsonSimple( a, b ) )"
   ]
  },
  {
   "cell_type": "markdown",
   "metadata": {},
   "source": [
    "## 2.5 进阶近邻指标\n",
    "### 2.5.1 User-IIF和Item-IUF\n",
    "\n",
    "User-IIF是在计算用户间相似度时，用流行度去衰减热门物品影响的相似权重。\n",
    "\n",
    "逆物品频率(Inverse Item Frequency, IIF)是指物品频率的倒数，通常会取对数来使数据平滑，因为幂律函数取对数是一个线性函数。"
   ]
  },
  {
   "cell_type": "code",
   "execution_count": null,
   "metadata": {},
   "outputs": [],
   "source": [
    "# 计算流行度\n",
    "def getPopularity(data_sets):\n",
    "    '''\n",
    "    :param 用户或物品集合{iid:{uid1,uid2}}\n",
    "    :return: 返回一个记录流行度的字典 {iid1: ppl1, iid2:ppl2}\n",
    "    '''\n",
    "    p = dict()\n",
    "    for id in data_sets:\n",
    "        frequency = len(data_sets[id])\n",
    "        ppl = math.log1p(frequency)#即 ln(1+x)\n",
    "        p[id] = ppl #得到流行度并记录起来\n",
    "    return p\n",
    "\n",
    "#IIF相似度\n",
    "def getIIFSim(s1,s2,popularities):\n",
    "    '''\n",
    "    :param s1: 用户或物品集合 {iid1,iid2}\n",
    "    :param s2: 用户或物品集合 {iid2,iid3}\n",
    "    :param popularities: 流行度字典 {iid1: ppl1, iid2:ppl2}\n",
    "    :return: IIF相似度\n",
    "    '''\n",
    "    s=0\n",
    "    for i in s1 & s2:\n",
    "        s += 1/popularities[i]\n",
    "    return s/(len(s1)*len(s2))**0.5"
   ]
  },
  {
   "cell_type": "markdown",
   "metadata": {},
   "source": [
    "### 2.5.2 更高效地利用流行度定义近邻指标\n",
    "\n",
    "User-IIF和Item-IUF有一个遍历操作，以下方法可以提高计算的效率：\n",
    "\n",
    "$$S_{x y}=\\frac{|N(\\boldsymbol{x}) \\cap N(\\boldsymbol{y})|}{|N(\\boldsymbol{x})|^{1-\\alpha_{y}} \\times|N(\\boldsymbol{y})|^{\\alpha_{y}}} $$\n",
    "$$\\alpha=\\frac{1+\\operatorname{normalize}\\left(\\mathrm{ppl}_{y}\\right)}{2}$$\n",
    "$$\\text { normalize }\\left(\\mathrm{ppl}_{y}\\right)=\\frac{\\mathrm{ppl}_{y}}{\\max (\\mathrm{ppl})}$$\n",
    "（可以使用Sigmoid函数来进行归一化来进一步化简）\n",
    "\n",
    "考虑到最大流行度还是得统计到所有物品或用户的流行度后才能知道，而每天的点击量及浏览量会实时变化，在实际工作中统计全量数据的频率不会那么高，而Sigmoid的计算是不需要知道一个所谓的最大流行度的，所以Sigmoid可以当作局部更新时的归一化操作。且因为流行度不会为负，所以对流行度取Sigmoid值后范围是0.5~1所以可以直接令\n",
    "$$\\alpha =Sigmoid(pp_{y})$$\n",
    "\n",
    "如果取Sigmoid后数据可能不平滑，也可以根据实际数据情况调整Sigmoid函数中$x$的系数。例如把调整后的Sigmoid公式写成：\n",
    "$$Sigmoid^{\\prime}(x)=\\frac{{1}}{1+e^{-0.2x}}$$\n",
    "在实际工作中可以通过机器学习训练系数。"
   ]
  },
  {
   "cell_type": "code",
   "execution_count": null,
   "metadata": {},
   "outputs": [],
   "source": [
    "# 流行度的归一化\n",
    "def normalizePopularities(popularities):\n",
    "    '''\n",
    "    :param popularities: 流行度字典 {iid1: ppl1, iid2:ppl2}\n",
    "    :return: 归一化后的流行度字典 {iid1: ppl1, iid2:ppl2}\n",
    "    '''\n",
    "    maxp = max(popularities.values())\n",
    "    norm_ppl = {}\n",
    "    for k in popularities:\n",
    "        norm_ppl[k] = popularities[k]/maxp\n",
    "    return norm_ppl\n",
    "\n",
    "# alpha相似度\n",
    "def getAlphaSim( s1, s2, norm_ppl1,s2_index ):\n",
    "    '''\n",
    "    :param s1: 用户或物品集合 {uid1,uid2}\n",
    "    :param s2: 用户或物品集合 {uid2,uid3}\n",
    "    :param norm_ppl1: 归一化后的流行度字典 {iid1: ppl1, iid2:ppl2}\n",
    "    :param s2_index: s2在数据集中的索引\n",
    "    :return: alpha相似度\n",
    "    '''\n",
    "    alpha = ( 1 + norm_ppl1[s2_index] )/2\n",
    "    return len(s1 & s2) / ( len(s1)**( 1 - alpha) * len(s2)**alpha)\n",
    "\n",
    "#Sigmoid代码\n",
    "def sigmoid(x):\n",
    "    return 1/(1+math.e**(-x))"
   ]
  }
 ],
 "metadata": {
  "kernelspec": {
   "display_name": "RecbyHand",
   "language": "python",
   "name": "python3"
  },
  "language_info": {
   "codemirror_mode": {
    "name": "ipython",
    "version": 3
   },
   "file_extension": ".py",
   "mimetype": "text/x-python",
   "name": "python",
   "nbconvert_exporter": "python",
   "pygments_lexer": "ipython3",
   "version": "3.13.1"
  }
 },
 "nbformat": 4,
 "nbformat_minor": 2
}
